{
 "cells": [
  {
   "cell_type": "markdown",
   "metadata": {},
   "source": [
    "# Fake Page View generator\n",
    "\n",
    "This notebook generates page views based on a three-hour dataset."
   ]
  },
  {
   "cell_type": "code",
   "execution_count": null,
   "metadata": {
    "scrolled": true
   },
   "outputs": [],
   "source": [
    "%%bash\n",
    "# Install the required Python 3 dependencies\n",
    "python3 -m pip install kafka-python  # type: ignore"
   ]
  },
  {
   "cell_type": "code",
   "execution_count": null,
   "metadata": {},
   "outputs": [],
   "source": [
    "# Extract archive of click data\n",
    "import zipfile\n",
    "import os\n",
    "\n",
    "ARCHIVEF = \"20180113-6-9-with-nulls.json.zip\"\n",
    "CLICKSF = \"20180113-6-9-with-nulls.json\"\n",
    "\n",
    "if (not os.path.isfile(CLICKSF)):\n",
    "    with zipfile.ZipFile(ARCHIVEF,\"r\") as zip_ref:\n",
    "        zip_ref.extractall(\".\")"
   ]
  },
  {
   "cell_type": "code",
   "execution_count": null,
   "metadata": {},
   "outputs": [],
   "source": [
    "# Send the ratings to the endpoint in order to test your implementation of the endpoint.\n",
    "SENDMODE = \"http\"\n",
    "\n",
    "# Send the ratings straight to Kafka in order to simulate a working endpoint.\n",
    "# This allows you to test cleaning code without a working endpoint. \n",
    "# SENDMODE = \"kafka\"\n"
   ]
  },
  {
   "cell_type": "code",
   "execution_count": null,
   "metadata": {},
   "outputs": [],
   "source": [
    "# Send click data\n",
    "import json\n",
    "import time\n",
    "from datetime import datetime\n",
    "import itertools\n",
    "\n",
    "import requests\n",
    "from kafka import KafkaProducer\n",
    "from kafka.errors import KafkaError\n",
    "from IPython.display import clear_output\n",
    "\n",
    "producer = KafkaProducer(bootstrap_servers=['localhost:9092'])\n",
    "\n",
    "orig_start = 0\n",
    "replay_start = time.time() * 1000\n",
    "\n",
    "counter = 0\n",
    "i = 0\n",
    "\n",
    "print(\"Simulating website traffic...\")\n",
    "\n",
    "with open(CLICKSF, 'r') as f:\n",
    "    first = True\n",
    "    start_ts = 0\n",
    "    for line in itertools.islice(f, 1633):\n",
    "        click = json.loads(line)\n",
    "\n",
    "        orig_event = click[\"ts_ingest\"] or 0\n",
    "        \n",
    "        if orig_event:\n",
    "            curr_ts = time.time() * 1000\n",
    "\n",
    "            if first:\n",
    "                first = False\n",
    "                orig_start = click[\"ts_ingest\"]\n",
    "            \n",
    "        click['ts_ingest'] = round((orig_event - orig_start) + replay_start)\n",
    "\n",
    "        if SENDMODE == \"kafka\":            \n",
    "            future = producer.send('clicks', json.dumps(click).encode('utf-8'))\n",
    "            record_metadata = future.get(timeout=10)\n",
    "        else:\n",
    "            requests.post(\"http://localhost:5000/clicks\", data=json.dumps(click).encode(\"utf-8\"), headers={'Content-Type':'application/json'})\n",
    "        \n",
    "        print(\"✓ {}\".format(datetime.fromtimestamp(orig_event/1000.0)))\n",
    "        if i > 1000:\n",
    "            clear_output()\n",
    "            i = 0\n",
    "        i = i+1\n"
   ]
  }
 ],
 "metadata": {
  "kernelspec": {
   "display_name": "Python 3",
   "language": "python",
   "name": "python3"
  },
  "language_info": {
   "codemirror_mode": {
    "name": "ipython",
    "version": 3
   },
   "file_extension": ".py",
   "mimetype": "text/x-python",
   "name": "python",
   "nbconvert_exporter": "python",
   "pygments_lexer": "ipython3",
   "version": "3.9.7"
  }
 },
 "nbformat": 4,
 "nbformat_minor": 2
}
