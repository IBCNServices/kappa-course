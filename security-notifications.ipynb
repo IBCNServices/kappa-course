{
 "cells": [
  {
   "cell_type": "markdown",
   "metadata": {},
   "source": [
    "# DDoS and Intrusion detection notifications\n",
    "\n",
    "In this exercise we'll set up DDoS and intrusion detection alerts. We'll send these alerts as Jupyter notifications, although in a regular environment, these would be sent as emails or Slack/chat messages.\n",
    "\n",
    "First, Install support for python Jupyter notifications."
   ]
  },
  {
   "cell_type": "code",
   "execution_count": null,
   "metadata": {},
   "outputs": [],
   "source": [
    "%%bash\n",
    "python3 -m pip install kafka-python jupyternotify"
   ]
  },
  {
   "cell_type": "markdown",
   "metadata": {},
   "source": [
    "Load the notification extension. Click \"Allow Notifications\" when the browser asks you.\n",
    "\n",
    "![](img/enable-notifications.png)"
   ]
  },
  {
   "cell_type": "code",
   "execution_count": null,
   "metadata": {},
   "outputs": [],
   "source": [
    "%load_ext jupyternotify"
   ]
  },
  {
   "cell_type": "markdown",
   "metadata": {},
   "source": [
    "You can now send notifications using `%notify -m 'test'`"
   ]
  },
  {
   "cell_type": "code",
   "execution_count": null,
   "metadata": {},
   "outputs": [],
   "source": [
    "def send_test_notification():\n",
    "    %notify -m 'test'\n",
    "\n",
    "send_test_notification()"
   ]
  },
  {
   "cell_type": "markdown",
   "metadata": {},
   "source": [
    "## Exercise\n",
    "\n",
    "Create a Python Kafka consumer that reads the topics `clicks-calculated-ddos` and `clicks-calculated-forbidden`.\n",
    "\n",
    "* The consumer creates a notification when, for a given window in `clicks-calculated-ddos` more messages are flagged as possible ddos than ones that are not. *Note: since each window has two rows, one for flagged messages and one for unflagged, you will need to keep a local cache of the windows you've already encountered.*\n",
    "* The consumer creates a notification every time a message from `clicks-calculated-forbidden` has the `forbidden` value set to `True`."
   ]
  },
  {
   "cell_type": "code",
   "execution_count": null,
   "metadata": {},
   "outputs": [],
   "source": []
  }
 ],
 "metadata": {
  "kernelspec": {
   "display_name": "Python 3",
   "language": "python",
   "name": "python3"
  },
  "language_info": {
   "codemirror_mode": {
    "name": "ipython",
    "version": 3
   },
   "file_extension": ".py",
   "mimetype": "text/x-python",
   "name": "python",
   "nbconvert_exporter": "python",
   "pygments_lexer": "ipython3",
   "version": "3.7.3"
  }
 },
 "nbformat": 4,
 "nbformat_minor": 2
}
